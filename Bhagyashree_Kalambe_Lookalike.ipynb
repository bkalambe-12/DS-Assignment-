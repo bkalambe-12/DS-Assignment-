{
  "metadata": {
    "kernelspec": {
      "name": "python",
      "display_name": "Python (Pyodide)",
      "language": "python"
    },
    "language_info": {
      "codemirror_mode": {
        "name": "python",
        "version": 3
      },
      "file_extension": ".py",
      "mimetype": "text/x-python",
      "name": "python",
      "nbconvert_exporter": "python",
      "pygments_lexer": "ipython3",
      "version": "3.8"
    }
  },
  "nbformat_minor": 5,
  "nbformat": 4,
  "cells": [
    {
      "id": "dab4285a-2bea-4ff9-9c8c-23d827689c3e",
      "cell_type": "code",
      "source": "import pandas as pd\nfrom sklearn.metrics.pairwise import cosine_similarity\nfrom sklearn.preprocessing import StandardScaler",
      "metadata": {
        "trusted": true
      },
      "outputs": [],
      "execution_count": 1
    },
    {
      "id": "959ec8de-8e2f-48b0-b00b-54be7481116f",
      "cell_type": "code",
      "source": "customers = pd.read_csv('Customers.csv')\nproducts = pd.read_csv('Products.csv')\ntransactions = pd.read_csv('Transactions.csv')",
      "metadata": {
        "trusted": true
      },
      "outputs": [],
      "execution_count": 2
    },
    {
      "id": "a3fe9bef-5e0f-497b-900e-786cf1ef1096",
      "cell_type": "code",
      "source": "merged_data = transactions.merge(customers, on='CustomerID').merge(products, on='ProductID')",
      "metadata": {
        "trusted": true
      },
      "outputs": [],
      "execution_count": 10
    },
    {
      "id": "32d185c7-7a15-4a87-9d3d-08d6af6a7ee5",
      "cell_type": "code",
      "source": "user_item_matrix = merged_data.pivot_table(index='CustomerID', columns='ProductID', values='Quantity', fill_value=0)",
      "metadata": {
        "trusted": true
      },
      "outputs": [],
      "execution_count": 13
    },
    {
      "id": "b0a5db1f-13e2-49cd-849d-b3de47ae1186",
      "cell_type": "code",
      "source": "scaler = StandardScaler()\nuser_item_matrix_scaled = scaler.fit_transform(user_item_matrix)",
      "metadata": {
        "trusted": true
      },
      "outputs": [],
      "execution_count": 20
    },
    {
      "id": "97f8f5b0-6f38-44c2-91b3-6bcb78e49756",
      "cell_type": "code",
      "source": "similarity_matrix = cosine_similarity(user_item_matrix_scaled)\nsimilarity_df = pd.DataFrame(similarity_matrix, index=user_item_matrix.index, columns=user_item_matrix.index)",
      "metadata": {
        "trusted": true
      },
      "outputs": [],
      "execution_count": 24
    },
    {
      "id": "0ecb27ed-50b8-45bb-8325-ae5e2838d983",
      "cell_type": "code",
      "source": "def get_top_lookalikes(customer_id, n=3):\n    similar_customers = similarity_df[customer_id].nlargest(n) \n    return similar_customers.index[1:], similar_customers.values[1:]",
      "metadata": {
        "trusted": true
      },
      "outputs": [],
      "execution_count": 38
    },
    {
      "id": "7ac1b8ae-1d43-4bed-8200-bfccea3e4b96",
      "cell_type": "code",
      "source": "lookalike_map = {}\nfor cust_id in user_item_matrix.index[:20]:\n    lookalikes, scores = get_top_lookalikes(cust_id)\n    lookalike_map[cust_id] = [(str(cust), round(score, 2)) for cust, score in zip(lookalikes, scores)]",
      "metadata": {
        "trusted": true
      },
      "outputs": [],
      "execution_count": 42
    },
    {
      "id": "0764e3c8-bc99-4ffc-a4c6-fa5c8f4b3293",
      "cell_type": "code",
      "source": "lookalike_records = []\nfor cust_id, lookalikes in lookalike_map.items():\n    for lookalike, score in lookalikes:\n        lookalike_records.append({'CustomerID': cust_id, 'LookalikeID': lookalike, 'SimilarityScore': score})\n\nlookalike_df = pd.DataFrame(lookalike_records)\n\nlookalike_df.to_csv('Bhagyashree_Kalambe_Lookalike.csv', index = False)",
      "metadata": {
        "trusted": true
      },
      "outputs": [],
      "execution_count": 48
    }
  ]
}